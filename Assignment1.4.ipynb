{
 "cells": [
  {
   "cell_type": "code",
   "execution_count": 14,
   "metadata": {},
   "outputs": [
    {
     "name": "stdout",
     "output_type": "stream",
     "text": [
      "The diameter is: 12\n",
      "Output:\n",
      "The volume of sphere is: 7234.5599999999995\n"
     ]
    }
   ],
   "source": [
    "#Program to print volume of Sphere when diameter is given#\n",
    "\n",
    "#Defining diameter\n",
    "diameter=12\n",
    "print (\"The diameter is:\", diameter) \n",
    "pi=3.14 \n",
    "Volume=(4/3*pi*diameter**3) #Defining volume formula\n",
    "print(\"Output:\")\n",
    "print(\"The volume of sphere is:\" , Volume) #Printing volume"
   ]
  }
 ],
 "metadata": {
  "kernelspec": {
   "display_name": "Python 3",
   "language": "python",
   "name": "python3"
  },
  "language_info": {
   "codemirror_mode": {
    "name": "ipython",
    "version": 3
   },
   "file_extension": ".py",
   "mimetype": "text/x-python",
   "name": "python",
   "nbconvert_exporter": "python",
   "pygments_lexer": "ipython3",
   "version": "3.6.3"
  }
 },
 "nbformat": 4,
 "nbformat_minor": 2
}
